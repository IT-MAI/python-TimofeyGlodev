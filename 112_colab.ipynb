{
 "cells": [
  {
   "cell_type": "markdown",
   "metadata": {
    "id": "87JfPMU3qepb"
   },
   "source": [
    "Вариант 5, Глодев Тимофей Сергеевич, М1О-112Б-21"
   ]
  },
  {
   "cell_type": "markdown",
   "metadata": {
    "id": "ZQodsYBoqq7T"
   },
   "source": [
    "Задача 1. "
   ]
  },
  {
   "cell_type": "code",
   "execution_count": 57,
   "metadata": {
    "executionInfo": {
     "elapsed": 9,
     "status": "ok",
     "timestamp": 1636712521332,
     "user": {
      "displayName": "Артемий Мазаев",
      "photoUrl": "https://lh3.googleusercontent.com/a-/AOh14GjZmhveA0DgJiv4kM9vQ3iEWzYb_DKj_wtojBLU7w=s64",
      "userId": "00361097609419342512"
     },
     "user_tz": -180
    },
    "id": "9ZGVY0L2qpTW"
   },
   "outputs": [
    {
     "name": "stdout",
     "output_type": "stream",
     "text": [
      "True\n"
     ]
    }
   ],
   "source": [
    "a = False\n",
    "b = False\n",
    "print(a and b)\n",
    "print(a and b or not(a or b) or b)"
   ]
  },
  {
   "cell_type": "markdown",
   "metadata": {
    "id": "LMWu2wo3q1jn"
   },
   "source": [
    "Задача 2."
   ]
  },
  {
   "cell_type": "code",
   "execution_count": 59,
   "metadata": {
    "executionInfo": {
     "elapsed": 357,
     "status": "ok",
     "timestamp": 1636712547050,
     "user": {
      "displayName": "Артемий Мазаев",
      "photoUrl": "https://lh3.googleusercontent.com/a-/AOh14GjZmhveA0DgJiv4kM9vQ3iEWzYb_DKj_wtojBLU7w=s64",
      "userId": "00361097609419342512"
     },
     "user_tz": -180
    },
    "id": "ZBLJNsalqvoM"
   },
   "outputs": [
    {
     "name": "stdout",
     "output_type": "stream",
     "text": [
      "-55\n",
      "25\n"
     ]
    }
   ],
   "source": [
    "n = abs(int(input()))\n",
    "m = 1\n",
    "if n == 0:\n",
    "    print('Не вводите 0')\n",
    "else:\n",
    "    while n > 0:\n",
    "        a = n % 10 \n",
    "        if a != 0: \n",
    "            m *=a #\n",
    "        n = n //10 \n",
    "    print(m)\n"
   ]
  },
  {
   "cell_type": "markdown",
   "metadata": {
    "id": "ZqoufEKVq3_T"
   },
   "source": [
    "Задача 3. "
   ]
  },
  {
   "cell_type": "code",
   "execution_count": 16,
   "metadata": {},
   "outputs": [
    {
     "name": "stdout",
     "output_type": "stream",
     "text": [
      "1 False\n",
      "2 True\n",
      "3 True\n",
      "4 False\n",
      "5 True\n",
      "6 False\n"
     ]
    }
   ],
   "source": [
    "a = True\n",
    "b = False\n",
    "c = True\n",
    "d = False\n",
    "print('1', not a)# без not будет True\n",
    "print('2', not b)# без not будет False\n",
    "print('3', not(a == b))# без not будет False \n",
    "print('4', not(a == c))# без not будет True \n",
    "print('5', not(b == c))# без not будет False \n",
    "print('6', not(b == d))# без not будет True"
   ]
  },
  {
   "cell_type": "markdown",
   "metadata": {},
   "source": [
    "Задача 4."
   ]
  },
  {
   "cell_type": "code",
   "execution_count": 54,
   "metadata": {},
   "outputs": [
    {
     "name": "stdout",
     "output_type": "stream",
     "text": [
      "12\n",
      "w\n",
      "r\n",
      "y\n",
      "?\n"
     ]
    }
   ],
   "source": [
    "#Срез строки в Python - извлечение символа по его индексу из строки\n",
    "s = 'how are you?' \n",
    "print(len(s))\n",
    "b = 2\n",
    "a = 3\n",
    "while b and a <=len(s):\n",
    "    print(s[b:a])\n",
    "    b += 3\n",
    "    a += 3"
   ]
  },
  {
   "cell_type": "code",
   "execution_count": 62,
   "metadata": {},
   "outputs": [
    {
     "name": "stdout",
     "output_type": "stream",
     "text": [
      "wry?\n"
     ]
    }
   ],
   "source": [
    "s = 'how are you?'\n",
    "print(s[2::3])"
   ]
  },
  {
   "cell_type": "code",
   "execution_count": 63,
   "metadata": {},
   "outputs": [
    {
     "name": "stdout",
     "output_type": "stream",
     "text": [
      "hwaeyu\n"
     ]
    }
   ],
   "source": []
  },
  {
   "cell_type": "code",
   "execution_count": null,
   "metadata": {},
   "outputs": [],
   "source": []
  }
 ],
 "metadata": {
  "colab": {
   "authorship_tag": "ABX9TyOxfmInWngLIdFDIuYp70pS",
   "collapsed_sections": [],
   "name": "112_colab.ipynb",
   "provenance": []
  },
  "kernelspec": {
   "display_name": "Python 3 (ipykernel)",
   "language": "python",
   "name": "python3"
  },
  "language_info": {
   "codemirror_mode": {
    "name": "ipython",
    "version": 3
   },
   "file_extension": ".py",
   "mimetype": "text/x-python",
   "name": "python",
   "nbconvert_exporter": "python",
   "pygments_lexer": "ipython3",
   "version": "3.9.7"
  }
 },
 "nbformat": 4,
 "nbformat_minor": 1
}
